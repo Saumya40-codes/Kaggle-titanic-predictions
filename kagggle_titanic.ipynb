{
  "nbformat": 4,
  "nbformat_minor": 0,
  "metadata": {
    "colab": {
      "provenance": [],
      "authorship_tag": "ABX9TyPN1UKJs3tmM/hx8jP+43j+",
      "include_colab_link": true
    },
    "kernelspec": {
      "name": "python3",
      "display_name": "Python 3"
    },
    "language_info": {
      "name": "python"
    }
  },
  "cells": [
    {
      "cell_type": "markdown",
      "metadata": {
        "id": "view-in-github",
        "colab_type": "text"
      },
      "source": [
        "<a href=\"https://colab.research.google.com/github/Saumya40-codes/Kaggle-titanic-predictions/blob/master/kagggle_titanic.ipynb\" target=\"_parent\"><img src=\"https://colab.research.google.com/assets/colab-badge.svg\" alt=\"Open In Colab\"/></a>"
      ]
    },
    {
      "cell_type": "markdown",
      "source": [
        "***Aspect1 : Survival on the base of gender***"
      ],
      "metadata": {
        "id": "O83MvvslyNjD"
      }
    },
    {
      "cell_type": "code",
      "execution_count": null,
      "metadata": {
        "id": "i-cBeewnjCae"
      },
      "outputs": [],
      "source": [
        "import csv\n",
        "import pandas as pd\n",
        "from pandas import DataFrame\n",
        "from matplotlib import pyplot as plt\n",
        "import numpy as np\n",
        "import random"
      ]
    },
    {
      "cell_type": "code",
      "source": [
        "#importing train.csv data\n",
        "df_data = DataFrame(pd.read_csv('train.csv',delimiter=','))"
      ],
      "metadata": {
        "id": "Laro7Qz9oHK6"
      },
      "execution_count": null,
      "outputs": []
    },
    {
      "cell_type": "code",
      "source": [
        "#calculating total numbers of passengers in this data\n",
        "dta = df_data.Survived.value_counts()\n",
        "total_people = dta[0]+dta[1]\n",
        "print(total_people)"
      ],
      "metadata": {
        "colab": {
          "base_uri": "https://localhost:8080/"
        },
        "id": "2ka_0UOF-Lha",
        "outputId": "17625819-6397-4643-f8b7-76521a88fcf7"
      },
      "execution_count": null,
      "outputs": [
        {
          "output_type": "stream",
          "name": "stdout",
          "text": [
            "891\n"
          ]
        }
      ]
    },
    {
      "cell_type": "code",
      "source": [
        "#calculating number of females and males\n",
        "count = df_data.Sex.value_counts()\n",
        "female_count = count[1]\n",
        "male_count = count[0]\n",
        "print(female_count)\n",
        "print(male_count)"
      ],
      "metadata": {
        "colab": {
          "base_uri": "https://localhost:8080/"
        },
        "id": "QW-MOLJd8RJs",
        "outputId": "873c8857-2b92-47ad-d295-141100465a86"
      },
      "execution_count": null,
      "outputs": [
        {
          "output_type": "stream",
          "name": "stdout",
          "text": [
            "314\n",
            "577\n"
          ]
        }
      ]
    },
    {
      "cell_type": "code",
      "source": [
        "total_peoples_saved = df_data.Survived[df_data.Survived == 1].value_counts().max()\n",
        "\n",
        "#percentage of total people survived\n",
        "percent_survive = (total_peoples_saved/total_people)*100\n",
        "print(\"Percentage of people listed in this data set who got survived:%0.2f\"%(percent_survive),'%')"
      ],
      "metadata": {
        "colab": {
          "base_uri": "https://localhost:8080/"
        },
        "id": "QNxxoOL3qJxP",
        "outputId": "d41fdd99-c4aa-489d-a330-64b86992b534"
      },
      "execution_count": null,
      "outputs": [
        {
          "output_type": "stream",
          "name": "stdout",
          "text": [
            "Percentage of people listed in this data set who got survived:38.38 %\n"
          ]
        }
      ]
    },
    {
      "cell_type": "code",
      "source": [
        "male_cols = df_data.Sex[df_data.Sex == 'male']\n",
        "male_survived = (male_cols[df_data.Survived == 1].value_counts().max())\n",
        "print(male_survived)\n",
        "percent_male_saved = (male_survived/male_count)*100\n",
        "print(\"Percentage of male who got saved: %0.2f\"%(percent_male_saved),\"%\")\n",
        "#i.e from the amount of male who were present only 18.89% of them were got saved"
      ],
      "metadata": {
        "colab": {
          "base_uri": "https://localhost:8080/"
        },
        "id": "43xP0SSQoTx4",
        "outputId": "821edda7-3399-41e1-a6f9-daf0e5b0c6e7"
      },
      "execution_count": null,
      "outputs": [
        {
          "output_type": "stream",
          "name": "stdout",
          "text": [
            "109\n",
            "Percentage of male who got saved: 18.89 %\n"
          ]
        }
      ]
    },
    {
      "cell_type": "code",
      "source": [
        "female_cols = df_data.Sex[df_data.Sex == 'female']\n",
        "female_survived = female_cols[df_data.Survived == 1].value_counts().max()\n",
        "percent_female_saved = (female_survived/female_count)*100\n",
        "print(\"Percentage of female who got saved: %0.2f\"%(percent_female_saved),\"%\")\n",
        "#i.e from the amount of female who were present 74.20% of them were got saved"
      ],
      "metadata": {
        "colab": {
          "base_uri": "https://localhost:8080/"
        },
        "id": "9IxVmoCWqbFQ",
        "outputId": "3f3d4d85-539d-4079-d103-c7fa1b1ffe39"
      },
      "execution_count": null,
      "outputs": [
        {
          "output_type": "stream",
          "name": "stdout",
          "text": [
            "Percentage of female who got saved: 74.20 %\n"
          ]
        }
      ]
    },
    {
      "cell_type": "code",
      "source": [
        "#VISUAL REPRESENTATION\n",
        "data = [male_survived,female_survived]\n",
        "x_val = ['male','female']\n",
        "saved_graph = plt.bar(x_val,data)\n",
        "plt.title('Gender wise survival rate')\n",
        "plt.xlabel('Gender')\n",
        "plt.ylabel('Survival number')"
      ],
      "metadata": {
        "colab": {
          "base_uri": "https://localhost:8080/",
          "height": 312
        },
        "id": "KckrEoiry-pE",
        "outputId": "3dc13bdd-cd73-4eb5-889d-28fde415b851"
      },
      "execution_count": null,
      "outputs": [
        {
          "output_type": "execute_result",
          "data": {
            "text/plain": [
              "Text(0, 0.5, 'Survival number')"
            ]
          },
          "metadata": {},
          "execution_count": 12
        },
        {
          "output_type": "display_data",
          "data": {
            "text/plain": [
              "<Figure size 432x288 with 1 Axes>"
            ],
            "image/png": "[encoded data removed]"
          },
          "metadata": {
            "needs_background": "light"
          }
        }
      ]
    },
    {
      "cell_type": "markdown",
      "source": [
        "So as it can be seen through above outputs that though not many people were saved but the proportion of female being saved was more than that of a male"
      ],
      "metadata": {
        "id": "uo0XBi1jygL1"
      }
    },
    {
      "cell_type": "markdown",
      "source": [
        "# **Predicting test.csv data now using this above set of rules**"
      ],
      "metadata": {
        "id": "lT81CCS49U8d"
      }
    },
    {
      "cell_type": "code",
      "source": [
        "df2_data =DataFrame(pd.read_csv('test.csv'))"
      ],
      "metadata": {
        "id": "5YY5MbKw9ikp",
        "colab": {
          "base_uri": "https://localhost:8080/"
        },
        "outputId": "b8ef37de-d891-42e3-9cba-2d86796fea24"
      },
      "execution_count": null,
      "outputs": [
        {
          "output_type": "stream",
          "name": "stdout",
          "text": [
            "     PassengerId  Pclass                                          Name  \\\n",
            "0            892       3                              Kelly, Mr. James   \n",
            "1            893       3              Wilkes, Mrs. James (Ellen Needs)   \n",
            "2            894       2                     Myles, Mr. Thomas Francis   \n",
            "3            895       3                              Wirz, Mr. Albert   \n",
            "4            896       3  Hirvonen, Mrs. Alexander (Helga E Lindqvist)   \n",
            "..           ...     ...                                           ...   \n",
            "413         1305       3                            Spector, Mr. Woolf   \n",
            "414         1306       1                  Oliva y Ocana, Dona. Fermina   \n",
            "415         1307       3                  Saether, Mr. Simon Sivertsen   \n",
            "416         1308       3                           Ware, Mr. Frederick   \n",
            "417         1309       3                      Peter, Master. Michael J   \n",
            "\n",
            "        Sex   Age  SibSp  Parch              Ticket      Fare Cabin Embarked  \n",
            "0      male  34.5      0      0              330911    7.8292   NaN        Q  \n",
            "1    female  47.0      1      0              363272    7.0000   NaN        S  \n",
            "2      male  62.0      0      0              240276    9.6875   NaN        Q  \n",
            "3      male  27.0      0      0              315154    8.6625   NaN        S  \n",
            "4    female  22.0      1      1             3101298   12.2875   NaN        S  \n",
            "..      ...   ...    ...    ...                 ...       ...   ...      ...  \n",
            "413    male   NaN      0      0           A.5. 3236    8.0500   NaN        S  \n",
            "414  female  39.0      0      0            PC 17758  108.9000  C105        C  \n",
            "415    male  38.5      0      0  SOTON/O.Q. 3101262    7.2500   NaN        S  \n",
            "416    male   NaN      0      0              359309    8.0500   NaN        S  \n",
            "417    male   NaN      1      1                2668   22.3583   NaN        C  \n",
            "\n",
            "[418 rows x 11 columns]\n"
          ]
        }
      ]
    },
    {
      "cell_type": "code",
      "source": [
        "#calculating total people in the given dataset\n",
        "dta2 = df2_data.Sex.value_counts()\n",
        "total_people2 = dta2[0] + dta2[1]\n",
        "print(total_people2)\n",
        "\n",
        "male_count2 = dta2[0]\n",
        "female_count2 = dta2[1]\n",
        "print(male_count2)\n",
        "print(female_count2)\n",
        "\n",
        "#according to the previous dataset 38.38% of people should survive\n",
        "people_survived2 = int((total_people2*percent_survive)//100)\n",
        "print(\"Number of people which may have survived in this data set:%d\"%(people_survived2))"
      ],
      "metadata": {
        "colab": {
          "base_uri": "https://localhost:8080/"
        },
        "id": "vFV6xT_u95hS",
        "outputId": "42edae0b-dfe2-4e62-988d-29218a88b600"
      },
      "execution_count": null,
      "outputs": [
        {
          "output_type": "stream",
          "name": "stdout",
          "text": [
            "418\n",
            "266\n",
            "152\n",
            "Number of people which may have survived in this data set:160\n"
          ]
        }
      ]
    },
    {
      "cell_type": "code",
      "source": [
        "#according to 'train.csv' 74.20% of female were saved and 18.89% male were saved\"\n",
        "total_female = df2_data.Sex[df2_data.Sex == 'female'].value_counts()\n",
        "female_saved2 = int((total_female*percent_female_saved)//100)\n",
        "print(female_saved2)\n",
        "\n",
        "#now total man saved = total_saved - female_saved\n",
        "male_saved2 = people_survived2 - female_saved2\n",
        "print(male_saved2)"
      ],
      "metadata": {
        "colab": {
          "base_uri": "https://localhost:8080/"
        },
        "id": "5-aWG7IBB117",
        "outputId": "96c42864-3962-4527-cd3f-42ce094e3aae"
      },
      "execution_count": null,
      "outputs": [
        {
          "output_type": "stream",
          "name": "stdout",
          "text": [
            "112\n",
            "48\n"
          ]
        }
      ]
    },
    {
      "cell_type": "code",
      "source": [
        "#for female\n",
        "saved_dataf = [0]*female_count2\n",
        "random_female_saved = 0\n",
        "rnd = np.random.randint(0,female_saved2)\n",
        "rnd_list = []\n",
        "i = 0\n",
        "while(i<female_saved2):\n",
        "  rnd = np.random.randint(0,len(saved_dataf))\n",
        "  if(rnd not in rnd_list):\n",
        "    rnd_list.append(rnd)\n",
        "    saved_dataf[rnd] = 1\n",
        "    i = i+1\n",
        "\n",
        "#for male\n",
        "saved_datam = [0]*male_count2\n",
        "random_female_saved = 0\n",
        "rnd2 = np.random.randint(0,male_saved2)\n",
        "rnd2_list = []\n",
        "j = 0\n",
        "while(j<male_saved2):\n",
        "  rnd2 = np.random.randint(0,len(saved_datam))\n",
        "  if(rnd2 not in rnd2_list):\n",
        "    rnd2_list.append(rnd2)\n",
        "    saved_datam[rnd2] = 1\n",
        "    j = j+1"
      ],
      "metadata": {
        "id": "lNcYgyoGFupQ"
      },
      "execution_count": null,
      "outputs": []
    },
    {
      "cell_type": "code",
      "source": [
        "female_passengerid = []*female_count2\n",
        "male_passengerid = []*male_count2\n",
        "final_list = []*total_people2\n",
        "f = 0\n",
        "m  = 0\n",
        "for i in df2_data.PassengerId.values:\n",
        "  if i in df2_data.PassengerId.values[df2_data.Sex == 'female']:\n",
        "    final_list.append(saved_dataf[f])\n",
        "    f = f+1\n",
        "  else:\n",
        "    final_list.append(saved_datam[m])\n",
        "    m = m+1"
      ],
      "metadata": {
        "colab": {
          "base_uri": "https://localhost:8080/"
        },
        "id": "GXEOhlfiO2PA",
        "outputId": "e2661070-70d3-45bd-bd8c-28cc70a1ddb5"
      },
      "execution_count": null,
      "outputs": [
        {
          "output_type": "stream",
          "name": "stdout",
          "text": [
            "[892, 893, 894, 895, 896, 897, 898, 899, 900, 901, 902, 903, 904, 905, 906, 907, 908, 909, 910, 911, 912, 913, 914, 915, 916, 917, 918, 919, 920, 921, 922, 923, 924, 925, 926, 927, 928, 929, 930, 931, 932, 933, 934, 935, 936, 937, 938, 939, 940, 941, 942, 943, 944, 945, 946, 947, 948, 949, 950, 951, 952, 953, 954, 955, 956, 957, 958, 959, 960, 961, 962, 963, 964, 965, 966, 967, 968, 969, 970, 971, 972, 973, 974, 975, 976, 977, 978, 979, 980, 981, 982, 983, 984, 985, 986, 987, 988, 989, 990, 991, 992, 993, 994, 995, 996, 997, 998, 999, 1000, 1001, 1002, 1003, 1004, 1005, 1006, 1007, 1008, 1009, 1010, 1011, 1012, 1013, 1014, 1015, 1016, 1017, 1018, 1019, 1020, 1021, 1022, 1023, 1024, 1025, 1026, 1027, 1028, 1029, 1030, 1031, 1032, 1033, 1034, 1035, 1036, 1037, 1038, 1039, 1040, 1041, 1042, 1043, 1044, 1045, 1046, 1047, 1048, 1049, 1050, 1051, 1052, 1053, 1054, 1055, 1056, 1057, 1058, 1059, 1060, 1061, 1062, 1063, 1064, 1065, 1066, 1067, 1068, 1069, 1070, 1071, 1072, 1073, 1074, 1075, 1076, 1077, 1078, 1079, 1080, 1081, 1082, 1083, 1084, 1085, 1086, 1087, 1088, 1089, 1090, 1091, 1092, 1093, 1094, 1095, 1096, 1097, 1098, 1099, 1100, 1101, 1102, 1103, 1104, 1105, 1106, 1107, 1108, 1109, 1110, 1111, 1112, 1113, 1114, 1115, 1116, 1117, 1118, 1119, 1120, 1121, 1122, 1123, 1124, 1125, 1126, 1127, 1128, 1129, 1130, 1131, 1132, 1133, 1134, 1135, 1136, 1137, 1138, 1139, 1140, 1141, 1142, 1143, 1144, 1145, 1146, 1147, 1148, 1149, 1150, 1151, 1152, 1153, 1154, 1155, 1156, 1157, 1158, 1159, 1160, 1161, 1162, 1163, 1164, 1165, 1166, 1167, 1168, 1169, 1170, 1171, 1172, 1173, 1174, 1175, 1176, 1177, 1178, 1179, 1180, 1181, 1182, 1183, 1184, 1185, 1186, 1187, 1188, 1189, 1190, 1191, 1192, 1193, 1194, 1195, 1196, 1197, 1198, 1199, 1200, 1201, 1202, 1203, 1204, 1205, 1206, 1207, 1208, 1209, 1210, 1211, 1212, 1213, 1214, 1215, 1216, 1217, 1218, 1219, 1220, 1221, 1222, 1223, 1224, 1225, 1226, 1227, 1228, 1229, 1230, 1231, 1232, 1233, 1234, 1235, 1236, 1237, 1238, 1239, 1240, 1241, 1242, 1243, 1244, 1245, 1246, 1247, 1248, 1249, 1250, 1251, 1252, 1253, 1254, 1255, 1256, 1257, 1258, 1259, 1260, 1261, 1262, 1263, 1264, 1265, 1266, 1267, 1268, 1269, 1270, 1271, 1272, 1273, 1274, 1275, 1276, 1277, 1278, 1279, 1280, 1281, 1282, 1283, 1284, 1285, 1286, 1287, 1288, 1289, 1290, 1291, 1292, 1293, 1294, 1295, 1296, 1297, 1298, 1299, 1300, 1301, 1302, 1303, 1304, 1305, 1306, 1307, 1308, 1309]\n"
          ]
        }
      ]
    },
    {
      "cell_type": "code",
      "source": [
        "#now adding this data into a csv file\n",
        "new_df = DataFrame(pd.read_csv('gender_based_observation.csv',delimiter=','))\n",
        "new_df.insert(loc=1,column='survived',value=final_list)\n",
        "#making a new csv file with reference to this\n",
        "csv_data = new_df.to_csv('gender_based_prediction.csv') \n",
        "print('\\nCSV String:\\n', csv_data)"
      ],
      "metadata": {
        "colab": {
          "base_uri": "https://localhost:8080/"
        },
        "id": "fZfWAD8pX6gu",
        "outputId": "4917b826-53e4-4119-d9da-8d3d0c4c1125"
      },
      "execution_count": null,
      "outputs": [
        {
          "output_type": "stream",
          "name": "stdout",
          "text": [
            "\n",
            "CSV String:\n",
            " None\n"
          ]
        }
      ]
    },
    {
      "cell_type": "code",
      "source": [
        "#VISUAL REPRESENTATION\n",
        "data1 = [male_saved2,female_saved2]\n",
        "x_val1 = ['male','female']\n",
        "saved_graph1 = plt.bar(x_val1,data1)\n",
        "plt.title('Gender wise survival rate')\n",
        "plt.xlabel('Gender')\n",
        "plt.ylabel('Survival number')"
      ],
      "metadata": {
        "colab": {
          "base_uri": "https://localhost:8080/",
          "height": 312
        },
        "id": "OAXLPzKNeVLj",
        "outputId": "89007d21-8798-410b-cd03-3b29119489c4"
      },
      "execution_count": null,
      "outputs": [
        {
          "output_type": "execute_result",
          "data": {
            "text/plain": [
              "Text(0, 0.5, 'Survival number')"
            ]
          },
          "metadata": {},
          "execution_count": 178
        },
        {
          "output_type": "display_data",
          "data": {
            "text/plain": [
              "<Figure size 432x288 with 1 Axes>"
            ],
            "image/png": "[encoded data removed]"
          },
          "metadata": {
            "needs_background": "light"
          }
        }
      ]
    },
    {
      "cell_type": "markdown",
      "source": [
        "**CONCLUSION**\n",
        "Thus by all above observation it can be concluded that more number of female got saved than that of men"
      ],
      "metadata": {
        "id": "iASdyn1HiSBv"
      }
    }
  ]
}