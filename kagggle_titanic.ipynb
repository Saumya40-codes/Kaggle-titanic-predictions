{
  "nbformat": 4,
  "nbformat_minor": 0,
  "metadata": {
    "colab": {
      "provenance": [],
      "authorship_tag": "ABX9TyPtNuk/ULMZDE+uPbwMl1gT",
      "include_colab_link": true
    },
    "kernelspec": {
      "name": "python3",
      "display_name": "Python 3"
    },
    "language_info": {
      "name": "python"
    }
  },
  "cells": [
    {
      "cell_type": "markdown",
      "metadata": {
        "id": "view-in-github",
        "colab_type": "text"
      },
      "source": [
        "<a href=\"https://colab.research.google.com/github/Saumya40-codes/Kaggle-titanic-predictions/blob/master/kagggle_titanic.ipynb\" target=\"_parent\"><img src=\"https://colab.research.google.com/assets/colab-badge.svg\" alt=\"Open In Colab\"/></a>"
      ]
    },
    {
      "cell_type": "markdown",
      "source": [
        "***Aspect1 : Survival on the base of gender***"
      ],
      "metadata": {
        "id": "O83MvvslyNjD"
      }
    },
    {
      "cell_type": "code",
      "execution_count": 96,
      "metadata": {
        "id": "i-cBeewnjCae"
      },
      "outputs": [],
      "source": [
        "import csv\n",
        "import pandas as pd\n",
        "from pandas import DataFrame\n",
        "from matplotlib import pyplot as plt\n",
        "import numpy as np\n",
        "import random"
      ]
    },
    {
      "cell_type": "code",
      "source": [
        "#importing train.csv data\n",
        "df_data = DataFrame(pd.read_csv('train.csv',delimiter=','))"
      ],
      "metadata": {
        "id": "Laro7Qz9oHK6"
      },
      "execution_count": 97,
      "outputs": []
    },
    {
      "cell_type": "code",
      "source": [
        "#calculating total numbers of passengers in this data\n",
        "dta = df_data.Survived.value_counts()\n",
        "total_people = dta[0]+dta[1]\n",
        "print(total_people)"
      ],
      "metadata": {
        "colab": {
          "base_uri": "https://localhost:8080/"
        },
        "id": "2ka_0UOF-Lha",
        "outputId": "995b358e-6f4c-431b-ecc9-3e3abb1150cd"
      },
      "execution_count": 98,
      "outputs": [
        {
          "output_type": "stream",
          "name": "stdout",
          "text": [
            "891\n"
          ]
        }
      ]
    },
    {
      "cell_type": "code",
      "source": [
        "#calculating number of females and males\n",
        "count = df_data.Sex.value_counts()\n",
        "female_count = count[1]\n",
        "male_count = count[0]\n",
        "print(female_count)\n",
        "print(male_count)"
      ],
      "metadata": {
        "colab": {
          "base_uri": "https://localhost:8080/"
        },
        "id": "QW-MOLJd8RJs",
        "outputId": "f72ecf63-6d04-44ac-a8a8-2f44041286fb"
      },
      "execution_count": 99,
      "outputs": [
        {
          "output_type": "stream",
          "name": "stdout",
          "text": [
            "314\n",
            "577\n"
          ]
        }
      ]
    },
    {
      "cell_type": "code",
      "source": [
        "total_peoples_saved = df_data.Survived[df_data.Survived == 1].value_counts().max()\n",
        "\n",
        "#percentage of total people survived\n",
        "percent_survive = (total_peoples_saved/total_people)*100\n",
        "print(\"Percentage of people listed in this data set who got survived:%0.2f\"%(percent_survive),'%')"
      ],
      "metadata": {
        "colab": {
          "base_uri": "https://localhost:8080/"
        },
        "id": "QNxxoOL3qJxP",
        "outputId": "03aafa74-2638-44e3-d161-d6fc97ce6bf5"
      },
      "execution_count": 100,
      "outputs": [
        {
          "output_type": "stream",
          "name": "stdout",
          "text": [
            "Percentage of people listed in this data set who got survived:38.38 %\n"
          ]
        }
      ]
    },
    {
      "cell_type": "code",
      "source": [
        "male_cols = df_data.Sex[df_data.Sex == 'male']\n",
        "male_survived = (male_cols[df_data.Survived == 1].value_counts().max())\n",
        "percent_male_saved = (male_survived/male_count)*100\n",
        "print(\"Percentage of male who got saved: %0.2f\"%(percent_male_saved),\"%\")\n",
        "#i.e from the amount of male who were present only 18.89% of them were got saved"
      ],
      "metadata": {
        "colab": {
          "base_uri": "https://localhost:8080/"
        },
        "id": "43xP0SSQoTx4",
        "outputId": "7f244148-0014-46f9-ccc9-3afd2880f494"
      },
      "execution_count": 101,
      "outputs": [
        {
          "output_type": "stream",
          "name": "stdout",
          "text": [
            "Percentage of male who got saved: 18.89 %\n"
          ]
        }
      ]
    },
    {
      "cell_type": "code",
      "source": [
        "female_cols = df_data.Sex[df_data.Sex == 'female']\n",
        "female_survived = female_cols[df_data.Survived == 1].value_counts().max()\n",
        "percent_female_saved = (female_survived/female_count)*100\n",
        "print(\"Percentage of female who got saved: %0.2f\"%(percent_female_saved),\"%\")\n",
        "#i.e from the amount of female who were present 74.20% of them were got saved"
      ],
      "metadata": {
        "colab": {
          "base_uri": "https://localhost:8080/"
        },
        "id": "9IxVmoCWqbFQ",
        "outputId": "df3e4146-406b-4090-d924-3c49f6b80c8b"
      },
      "execution_count": 102,
      "outputs": [
        {
          "output_type": "stream",
          "name": "stdout",
          "text": [
            "Percentage of female who got saved: 74.20 %\n"
          ]
        }
      ]
    },
    {
      "cell_type": "code",
      "source": [
        "#VISUAL REPRESENTATION\n",
        "data = [male_survived,female_survived]\n",
        "x_val = ['male','female']\n",
        "saved_graph = plt.bar(x_val,data)\n",
        "plt.title('Gender wise survival rate')\n",
        "plt.xlabel('Gender')\n",
        "plt.ylabel('Survival number')"
      ],
      "metadata": {
        "colab": {
          "base_uri": "https://localhost:8080/",
          "height": 490
        },
        "id": "KckrEoiry-pE",
        "outputId": "a13343b6-2f64-4492-bbfd-d4ef9243bf9b"
      },
      "execution_count": 103,
      "outputs": [
        {
          "output_type": "execute_result",
          "data": {
            "text/plain": [
              "Text(0, 0.5, 'Survival number')"
            ]
          },
          "metadata": {},
          "execution_count": 103
        },
        {
          "output_type": "display_data",
          "data": {
            "text/plain": [
              "<Figure size 640x480 with 1 Axes>"
            ],
            "image/png": "[encoded data removed]"
          },
          "metadata": {}
        }
      ]
    },
    {
      "cell_type": "markdown",
      "source": [
        "So as it can be seen through above outputs that though not many people were saved but the proportion of female being saved was more than that of a male"
      ],
      "metadata": {
        "id": "uo0XBi1jygL1"
      }
    },
    {
      "cell_type": "markdown",
      "source": [
        "# **Predicting test.csv data now using this above set of rules**"
      ],
      "metadata": {
        "id": "lT81CCS49U8d"
      }
    },
    {
      "cell_type": "code",
      "source": [
        "df2_data =DataFrame(pd.read_csv('test.csv'))"
      ],
      "metadata": {
        "id": "5YY5MbKw9ikp"
      },
      "execution_count": 104,
      "outputs": []
    },
    {
      "cell_type": "code",
      "source": [
        "#calculating total people in the given dataset\n",
        "dta2 = df2_data.Sex.value_counts()\n",
        "total_people2 = dta2[0] + dta2[1]\n",
        "print(\"Total number of people data:\",total_people2)\n",
        "\n",
        "male_count2 = dta2[0]\n",
        "female_count2 = dta2[1]\n",
        "\n",
        "\n",
        "#according to the previous dataset 38.38% of people should survive\n",
        "people_survived2 = int((total_people2*percent_survive)//100)\n",
        "print(\"Number of people which may have survived in this data set:%d\"%(people_survived2))"
      ],
      "metadata": {
        "colab": {
          "base_uri": "https://localhost:8080/"
        },
        "id": "vFV6xT_u95hS",
        "outputId": "0e056028-bd57-49a3-ab9b-589e97a68b93"
      },
      "execution_count": 105,
      "outputs": [
        {
          "output_type": "stream",
          "name": "stdout",
          "text": [
            "Total number of people data: 418\n",
            "Number of people which may have survived in this data set:160\n"
          ]
        }
      ]
    },
    {
      "cell_type": "code",
      "source": [
        "#according to 'train.csv' 74.20% of female were saved and 18.89% male were saved\"\n",
        "total_female = df2_data.Sex[df2_data.Sex == 'female'].value_counts()\n",
        "female_saved2 = int((total_female*percent_female_saved)//100)\n",
        "\n",
        "\n",
        "#now total man saved = total_saved - female_saved\n",
        "male_saved2 = people_survived2 - female_saved2\n"
      ],
      "metadata": {
        "id": "5-aWG7IBB117"
      },
      "execution_count": 106,
      "outputs": []
    },
    {
      "cell_type": "code",
      "source": [
        "#for female\n",
        "saved_dataf = [0]*female_count2\n",
        "rnd = np.random.randint(0,female_saved2)\n",
        "rnd_list = []\n",
        "i = 0\n",
        "while(i<female_saved2):\n",
        "  rnd = np.random.randint(0,len(saved_dataf))\n",
        "  if(rnd not in rnd_list):\n",
        "    rnd_list.append(rnd)\n",
        "    saved_dataf[rnd] = 1\n",
        "    i = i+1"
      ],
      "metadata": {
        "id": "lNcYgyoGFupQ"
      },
      "execution_count": 107,
      "outputs": []
    },
    {
      "cell_type": "code",
      "source": [
        "#for male\n",
        "saved_datam = [0]*male_count2\n",
        "rnd2 = np.random.randint(0,male_saved2)\n",
        "rnd2_list = []\n",
        "j = 0\n",
        "while(j<male_saved2):\n",
        "  rnd2 = np.random.randint(0,len(saved_datam))\n",
        "  if(rnd2 not in rnd2_list):\n",
        "    rnd2_list.append(rnd2)\n",
        "    saved_datam[rnd2] = 1\n",
        "    j = j+1"
      ],
      "metadata": {
        "id": "FhGr_DFYoWz1"
      },
      "execution_count": 108,
      "outputs": []
    },
    {
      "cell_type": "code",
      "source": [
        "final_list = []*total_people2\n",
        "f = 0\n",
        "m  = 0\n",
        "for i in df2_data.PassengerId.values:\n",
        "  if i in df2_data.PassengerId.values[df2_data.Sex == 'female']:\n",
        "    final_list.append(saved_dataf[f])\n",
        "    f = f+1\n",
        "  else:\n",
        "    final_list.append(saved_datam[m])\n",
        "    m = m+1"
      ],
      "metadata": {
        "id": "GXEOhlfiO2PA"
      },
      "execution_count": 109,
      "outputs": []
    },
    {
      "cell_type": "code",
      "source": [
        "#now adding this data into a csv file\n",
        "new_df = DataFrame(pd.read_csv('gender_based_observation.csv',delimiter=','))\n",
        "new_df.insert(loc=1,column='survived',value=final_list)\n",
        "#making a new csv file with reference to this\n",
        "csv_data = new_df.to_csv('gender_based_prediction.csv') \n",
        "print('\\nCSV String:\\n', csv_data)"
      ],
      "metadata": {
        "colab": {
          "base_uri": "https://localhost:8080/"
        },
        "id": "fZfWAD8pX6gu",
        "outputId": "7ee6c74c-8566-4bf8-e964-5d921697c187"
      },
      "execution_count": 110,
      "outputs": [
        {
          "output_type": "stream",
          "name": "stdout",
          "text": [
            "\n",
            "CSV String:\n",
            " None\n"
          ]
        }
      ]
    },
    {
      "cell_type": "code",
      "source": [
        "#VISUAL REPRESENTATION\n",
        "data1 = [male_saved2,female_saved2]\n",
        "x_val1 = ['male','female']\n",
        "saved_graph1 = plt.bar(x_val1,data1)\n",
        "plt.title('Gender wise survival rate')\n",
        "plt.xlabel('Gender')\n",
        "plt.ylabel('Survival number')"
      ],
      "metadata": {
        "colab": {
          "base_uri": "https://localhost:8080/",
          "height": 490
        },
        "id": "OAXLPzKNeVLj",
        "outputId": "0062797f-d763-45f7-a095-d0eafa0ff783"
      },
      "execution_count": 111,
      "outputs": [
        {
          "output_type": "execute_result",
          "data": {
            "text/plain": [
              "Text(0, 0.5, 'Survival number')"
            ]
          },
          "metadata": {},
          "execution_count": 111
        },
        {
          "output_type": "display_data",
          "data": {
            "text/plain": [
              "<Figure size 640x480 with 1 Axes>"
            ],
            "image/png": "[encoded data removed]"
          },
          "metadata": {}
        }
      ]
    },
    {
      "cell_type": "markdown",
      "source": [
        "**CONCLUSION**\n",
        "Thus by all above observation it can be concluded that more number of female got saved than that of men"
      ],
      "metadata": {
        "id": "iASdyn1HiSBv"
      }
    },
    {
      "cell_type": "markdown",
      "source": [
        "**Now, I'll implement the Kth nearest neighbour approach for Amount of fair paid and survived or not approach**"
      ],
      "metadata": {
        "id": "GvD8NaZQVCx2"
      }
    },
    {
      "cell_type": "code",
      "source": [
        "from sklearn.neighbors import KNeighborsClassifier\n",
        "from sklearn.metrics import classification_report\n",
        "\n",
        "def make_data(dataframe):\n",
        "  x = np.reshape(dataframe[dataframe.columns[7]].values, (-1,1))\n",
        "  y = np.reshape(dataframe[dataframe.columns[-1]].values , (-1,1))\n",
        "\n",
        "\n",
        "  return x,y\n"
      ],
      "metadata": {
        "id": "xvOTODxVVRJq"
      },
      "execution_count": 112,
      "outputs": []
    },
    {
      "cell_type": "code",
      "source": [
        "x_train,y_train = make_data(df_data)"
      ],
      "metadata": {
        "id": "6yMuTJfwWohL"
      },
      "execution_count": 113,
      "outputs": []
    },
    {
      "cell_type": "code",
      "source": [
        "knn_model = KNeighborsClassifier(n_neighbors = 3)\n",
        "knn_model.fit(x_train,y_train)"
      ],
      "metadata": {
        "colab": {
          "base_uri": "https://localhost:8080/",
          "height": 131
        },
        "id": "9lqvmhsWWyAM",
        "outputId": "985be885-5263-4e91-9c13-c9c58890d0ca"
      },
      "execution_count": 114,
      "outputs": [
        {
          "output_type": "stream",
          "name": "stderr",
          "text": [
            "/usr/local/lib/python3.9/dist-packages/sklearn/neighbors/_classification.py:215: DataConversionWarning: A column-vector y was passed when a 1d array was expected. Please change the shape of y to (n_samples,), for example using ravel().\n",
            "  return self._fit(X, y)\n"
          ]
        },
        {
          "output_type": "execute_result",
          "data": {
            "text/plain": [
              "KNeighborsClassifier(n_neighbors=3)"
            ],
            "text/html": [
              "<style>#sk-container-id-2 {color: black;background-color: white;}#sk-container-id-2 pre{padding: 0;}#sk-container-id-2 div.sk-toggleable {background-color: white;}#sk-container-id-2 label.sk-toggleable__label {cursor: pointer;display: block;width: 100%;margin-bottom: 0;padding: 0.3em;box-sizing: border-box;text-align: center;}#sk-container-id-2 label.sk-toggleable__label-arrow:before {content: \"▸\";float: left;margin-right: 0.25em;color: #696969;}#sk-container-id-2 label.sk-toggleable__label-arrow:hover:before {color: black;}#sk-container-id-2 div.sk-estimator:hover label.sk-toggleable__label-arrow:before {color: black;}#sk-container-id-2 div.sk-toggleable__content {max-height: 0;max-width: 0;overflow: hidden;text-align: left;background-color: #f0f8ff;}#sk-container-id-2 div.sk-toggleable__content pre {margin: 0.2em;color: black;border-radius: 0.25em;background-color: #f0f8ff;}#sk-container-id-2 input.sk-toggleable__control:checked~div.sk-toggleable__content {max-height: 200px;max-width: 100%;overflow: auto;}#sk-container-id-2 input.sk-toggleable__control:checked~label.sk-toggleable__label-arrow:before {content: \"▾\";}#sk-container-id-2 div.sk-estimator input.sk-toggleable__control:checked~label.sk-toggleable__label {background-color: #d4ebff;}#sk-container-id-2 div.sk-label input.sk-toggleable__control:checked~label.sk-toggleable__label {background-color: #d4ebff;}#sk-container-id-2 input.sk-hidden--visually {border: 0;clip: rect(1px 1px 1px 1px);clip: rect(1px, 1px, 1px, 1px);height: 1px;margin: -1px;overflow: hidden;padding: 0;position: absolute;width: 1px;}#sk-container-id-2 div.sk-estimator {font-family: monospace;background-color: #f0f8ff;border: 1px dotted black;border-radius: 0.25em;box-sizing: border-box;margin-bottom: 0.5em;}#sk-container-id-2 div.sk-estimator:hover {background-color: #d4ebff;}#sk-container-id-2 div.sk-parallel-item::after {content: \"\";width: 100%;border-bottom: 1px solid gray;flex-grow: 1;}#sk-container-id-2 div.sk-label:hover label.sk-toggleable__label {background-color: #d4ebff;}#sk-container-id-2 div.sk-serial::before {content: \"\";position: absolute;border-left: 1px solid gray;box-sizing: border-box;top: 0;bottom: 0;left: 50%;z-index: 0;}#sk-container-id-2 div.sk-serial {display: flex;flex-direction: column;align-items: center;background-color: white;padding-right: 0.2em;padding-left: 0.2em;position: relative;}#sk-container-id-2 div.sk-item {position: relative;z-index: 1;}#sk-container-id-2 div.sk-parallel {display: flex;align-items: stretch;justify-content: center;background-color: white;position: relative;}#sk-container-id-2 div.sk-item::before, #sk-container-id-2 div.sk-parallel-item::before {content: \"\";position: absolute;border-left: 1px solid gray;box-sizing: border-box;top: 0;bottom: 0;left: 50%;z-index: -1;}#sk-container-id-2 div.sk-parallel-item {display: flex;flex-direction: column;z-index: 1;position: relative;background-color: white;}#sk-container-id-2 div.sk-parallel-item:first-child::after {align-self: flex-end;width: 50%;}#sk-container-id-2 div.sk-parallel-item:last-child::after {align-self: flex-start;width: 50%;}#sk-container-id-2 div.sk-parallel-item:only-child::after {width: 0;}#sk-container-id-2 div.sk-dashed-wrapped {border: 1px dashed gray;margin: 0 0.4em 0.5em 0.4em;box-sizing: border-box;padding-bottom: 0.4em;background-color: white;}#sk-container-id-2 div.sk-label label {font-family: monospace;font-weight: bold;display: inline-block;line-height: 1.2em;}#sk-container-id-2 div.sk-label-container {text-align: center;}#sk-container-id-2 div.sk-container {/* jupyter's `normalize.less` sets `[hidden] { display: none; }` but bootstrap.min.css set `[hidden] { display: none !important; }` so we also need the `!important` here to be able to override the default hidden behavior on the sphinx rendered scikit-learn.org. See: https://github.com/scikit-learn/scikit-learn/issues/21755 */display: inline-block !important;position: relative;}#sk-container-id-2 div.sk-text-repr-fallback {display: none;}</style><div id=\"sk-container-id-2\" class=\"sk-top-container\"><div class=\"sk-text-repr-fallback\"><pre>KNeighborsClassifier(n_neighbors=3)</pre><b>In a Jupyter environment, please rerun this cell to show the HTML representation or trust the notebook. <br />On GitHub, the HTML representation is unable to render, please try loading this page with nbviewer.org.</b></div><div class=\"sk-container\" hidden><div class=\"sk-item\"><div class=\"sk-estimator sk-toggleable\"><input class=\"sk-toggleable__control sk-hidden--visually\" id=\"sk-estimator-id-2\" type=\"checkbox\" checked><label for=\"sk-estimator-id-2\" class=\"sk-toggleable__label sk-toggleable__label-arrow\">KNeighborsClassifier</label><div class=\"sk-toggleable__content\"><pre>KNeighborsClassifier(n_neighbors=3)</pre></div></div></div></div></div>"
            ]
          },
          "metadata": {},
          "execution_count": 114
        }
      ]
    },
    {
      "cell_type": "code",
      "source": [
        "df2_data.columns[-3]"
      ],
      "metadata": {
        "colab": {
          "base_uri": "https://localhost:8080/",
          "height": 36
        },
        "id": "pdukWTnpa_Xm",
        "outputId": "3cf39cfc-0ce7-445f-fcdf-384e391978bf"
      },
      "execution_count": 115,
      "outputs": [
        {
          "output_type": "execute_result",
          "data": {
            "text/plain": [
              "'Fare'"
            ],
            "application/vnd.google.colaboratory.intrinsic+json": {
              "type": "string"
            }
          },
          "metadata": {},
          "execution_count": 115
        }
      ]
    },
    {
      "cell_type": "code",
      "source": [
        "to_pred = np.reshape(df2_data[df_data.columns[-3]].values, (-1,1))\n",
        "\n",
        "pred = knn_model.predict(to_pred)"
      ],
      "metadata": {
        "id": "rL792gmYYgLH"
      },
      "execution_count": 116,
      "outputs": []
    },
    {
      "cell_type": "code",
      "source": [
        "pred"
      ],
      "metadata": {
        "colab": {
          "base_uri": "https://localhost:8080/"
        },
        "id": "XdnripMDb9vm",
        "outputId": "d4852f2c-38a9-4222-e5fc-22beef227b90"
      },
      "execution_count": 119,
      "outputs": [
        {
          "output_type": "execute_result",
          "data": {
            "text/plain": [
              "array([0, 0, 0, 0, 0, 0, 0, 1, 0, 0, 0, 1, 1, 1, 0, 0, 1, 0, 1, 0, 1, 0,\n",
              "       1, 0, 1, 0, 0, 0, 1, 0, 1, 1, 1, 0, 1, 0, 0, 0, 0, 1, 0, 1, 0, 1,\n",
              "       1, 1, 0, 1, 1, 1, 0, 0, 1, 1, 0, 0, 0, 0, 0, 1, 0, 0, 1, 0, 1, 1,\n",
              "       1, 1, 0, 1, 1, 0, 1, 0, 1, 1, 0, 0, 1, 1, 0, 1, 1, 0, 0, 0, 1, 0,\n",
              "       1, 1, 1, 0, 0, 0, 1, 1, 0, 1, 0, 0, 1, 1, 1, 0, 0, 1, 0, 1, 0, 1,\n",
              "       0, 0, 1, 0, 1, 0, 0, 1, 1, 1, 1, 1, 1, 0, 1, 0, 1, 1, 1, 0, 0, 0,\n",
              "       0, 0, 0, 0, 0, 1, 0, 0, 0, 1, 1, 1, 1, 0, 0, 0, 1, 1, 1, 0, 0, 1,\n",
              "       1, 0, 1, 0, 1, 1, 1, 0, 0, 0, 1, 1, 0, 0, 0, 0, 0, 0, 1, 0, 1, 1,\n",
              "       1, 1, 1, 1, 1, 1, 1, 1, 1, 1, 1, 0, 0, 1, 1, 1, 0, 1, 1, 0, 1, 0,\n",
              "       0, 0, 0, 0, 1, 1, 0, 0, 1, 0, 0, 0, 1, 0, 0, 1, 0, 1, 1, 1, 1, 0,\n",
              "       1, 0, 0, 1, 0, 0, 1, 1, 0, 1, 1, 1, 0, 1, 1, 0, 1, 0, 1, 1, 0, 1,\n",
              "       1, 0, 0, 0, 1, 1, 1, 0, 0, 1, 1, 0, 0, 0, 1, 0, 1, 0, 0, 0, 1, 1,\n",
              "       0, 0, 0, 0, 0, 0, 1, 1, 1, 0, 0, 1, 0, 1, 1, 0, 0, 1, 1, 0, 0, 0,\n",
              "       0, 1, 0, 0, 0, 0, 0, 1, 0, 0, 1, 0, 0, 0, 0, 0, 1, 0, 1, 1, 1, 0,\n",
              "       1, 0, 0, 0, 0, 1, 1, 1, 1, 0, 0, 1, 0, 0, 1, 1, 1, 0, 1, 0, 1, 1,\n",
              "       1, 0, 0, 1, 0, 1, 1, 0, 1, 0, 0, 0, 0, 1, 0, 0, 1, 0, 0, 1, 1, 0,\n",
              "       0, 1, 1, 1, 1, 1, 1, 0, 0, 1, 1, 0, 1, 0, 0, 0, 1, 1, 0, 1, 0, 1,\n",
              "       1, 1, 0, 0, 0, 1, 1, 1, 0, 0, 1, 1, 0, 1, 1, 0, 1, 1, 0, 0, 1, 0,\n",
              "       0, 0, 0, 1, 1, 1, 1, 0, 0, 1, 0, 1, 0, 1, 1, 1, 0, 0, 1, 0, 0, 1])"
            ]
          },
          "metadata": {},
          "execution_count": 119
        }
      ]
    },
    {
      "cell_type": "code",
      "source": [
        "#now adding this data into a csv file\n",
        "new_df = DataFrame(pd.read_csv('gender_based_obs.csv',delimiter=','))\n",
        "new_df.insert(loc=1,column='survived',value=pred)\n",
        "\n",
        "\n",
        "#making a new csv file with reference to this\n",
        "csv_data = new_df.to_csv('fare_based_prediction.csv') \n",
        "print('\\nCSV String:\\n', csv_data)\n"
      ],
      "metadata": {
        "colab": {
          "base_uri": "https://localhost:8080/"
        },
        "id": "XaxwbuN9cPRW",
        "outputId": "f9716f91-f590-458c-bfdd-d5cdd23a574a"
      },
      "execution_count": 122,
      "outputs": [
        {
          "output_type": "stream",
          "name": "stdout",
          "text": [
            "\n",
            "CSV String:\n",
            " None\n"
          ]
        }
      ]
    }
  ]
}