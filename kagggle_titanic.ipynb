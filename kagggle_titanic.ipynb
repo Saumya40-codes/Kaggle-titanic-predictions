{
  "nbformat": 4,
  "nbformat_minor": 0,
  "metadata": {
    "colab": {
      "provenance": [],
      "authorship_tag": "ABX9TyN6HPl8Xc6EL+uSxH7HBL/2",
      "include_colab_link": true
    },
    "kernelspec": {
      "name": "python3",
      "display_name": "Python 3"
    },
    "language_info": {
      "name": "python"
    }
  },
  "cells": [
    {
      "cell_type": "markdown",
      "metadata": {
        "id": "view-in-github",
        "colab_type": "text"
      },
      "source": [
        "<a href=\"https://colab.research.google.com/github/Saumya40-codes/Kaggle-titanic-predictions/blob/master/kagggle_titanic.ipynb\" target=\"_parent\"><img src=\"https://colab.research.google.com/assets/colab-badge.svg\" alt=\"Open In Colab\"/></a>"
      ]
    },
    {
      "cell_type": "markdown",
      "source": [
        "***Aspect1 : Survival on the base of gender***"
      ],
      "metadata": {
        "id": "O83MvvslyNjD"
      }
    },
    {
      "cell_type": "code",
      "execution_count": 186,
      "metadata": {
        "id": "i-cBeewnjCae"
      },
      "outputs": [],
      "source": [
        "import csv\n",
        "import pandas as pd\n",
        "from pandas import DataFrame\n",
        "from matplotlib import pyplot as plt\n",
        "import numpy as np\n",
        "import random"
      ]
    },
    {
      "cell_type": "code",
      "source": [
        "#importing train.csv data\n",
        "df_data = DataFrame(pd.read_csv('train.csv',delimiter=','))"
      ],
      "metadata": {
        "id": "Laro7Qz9oHK6"
      },
      "execution_count": 187,
      "outputs": []
    },
    {
      "cell_type": "code",
      "source": [
        "#calculating total numbers of passengers in this data\n",
        "dta = df_data.Survived.value_counts()\n",
        "total_people = dta[0]+dta[1]\n",
        "print(total_people)"
      ],
      "metadata": {
        "colab": {
          "base_uri": "https://localhost:8080/"
        },
        "id": "2ka_0UOF-Lha",
        "outputId": "92d7fd3f-d14e-4965-e587-dc49b5c8e4ac"
      },
      "execution_count": 188,
      "outputs": [
        {
          "output_type": "stream",
          "name": "stdout",
          "text": [
            "891\n"
          ]
        }
      ]
    },
    {
      "cell_type": "code",
      "source": [
        "#calculating number of females and males\n",
        "count = df_data.Sex.value_counts()\n",
        "female_count = count[1]\n",
        "male_count = count[0]\n",
        "print(female_count)\n",
        "print(male_count)"
      ],
      "metadata": {
        "colab": {
          "base_uri": "https://localhost:8080/"
        },
        "id": "QW-MOLJd8RJs",
        "outputId": "241d8753-16e2-4af1-b7a4-3a7fa460e5b0"
      },
      "execution_count": 189,
      "outputs": [
        {
          "output_type": "stream",
          "name": "stdout",
          "text": [
            "314\n",
            "577\n"
          ]
        }
      ]
    },
    {
      "cell_type": "code",
      "source": [
        "total_peoples_saved = df_data.Survived[df_data.Survived == 1].value_counts().max()\n",
        "\n",
        "#percentage of total people survived\n",
        "percent_survive = (total_peoples_saved/total_people)*100\n",
        "print(\"Percentage of people listed in this data set who got survived:%0.2f\"%(percent_survive),'%')"
      ],
      "metadata": {
        "colab": {
          "base_uri": "https://localhost:8080/"
        },
        "id": "QNxxoOL3qJxP",
        "outputId": "da061426-e4aa-4fb9-ca65-fb17c11134aa"
      },
      "execution_count": 190,
      "outputs": [
        {
          "output_type": "stream",
          "name": "stdout",
          "text": [
            "Percentage of people listed in this data set who got survived:38.38 %\n"
          ]
        }
      ]
    },
    {
      "cell_type": "code",
      "source": [
        "male_cols = df_data.Sex[df_data.Sex == 'male']\n",
        "male_survived = (male_cols[df_data.Survived == 1].value_counts().max())\n",
        "percent_male_saved = (male_survived/male_count)*100\n",
        "print(\"Percentage of male who got saved: %0.2f\"%(percent_male_saved),\"%\")\n",
        "#i.e from the amount of male who were present only 18.89% of them were got saved"
      ],
      "metadata": {
        "colab": {
          "base_uri": "https://localhost:8080/"
        },
        "id": "43xP0SSQoTx4",
        "outputId": "d9a02e02-d319-42d0-b100-7f624b940957"
      },
      "execution_count": 191,
      "outputs": [
        {
          "output_type": "stream",
          "name": "stdout",
          "text": [
            "Percentage of male who got saved: 18.89 %\n"
          ]
        }
      ]
    },
    {
      "cell_type": "code",
      "source": [
        "female_cols = df_data.Sex[df_data.Sex == 'female']\n",
        "female_survived = female_cols[df_data.Survived == 1].value_counts().max()\n",
        "percent_female_saved = (female_survived/female_count)*100\n",
        "print(\"Percentage of female who got saved: %0.2f\"%(percent_female_saved),\"%\")\n",
        "#i.e from the amount of female who were present 74.20% of them were got saved"
      ],
      "metadata": {
        "colab": {
          "base_uri": "https://localhost:8080/"
        },
        "id": "9IxVmoCWqbFQ",
        "outputId": "4ecc5d61-3a30-49fb-c749-36249541767e"
      },
      "execution_count": 192,
      "outputs": [
        {
          "output_type": "stream",
          "name": "stdout",
          "text": [
            "Percentage of female who got saved: 74.20 %\n"
          ]
        }
      ]
    },
    {
      "cell_type": "code",
      "source": [
        "#VISUAL REPRESENTATION\n",
        "data = [male_survived,female_survived]\n",
        "x_val = ['male','female']\n",
        "saved_graph = plt.bar(x_val,data)\n",
        "plt.title('Gender wise survival rate')\n",
        "plt.xlabel('Gender')\n",
        "plt.ylabel('Survival number')"
      ],
      "metadata": {
        "colab": {
          "base_uri": "https://localhost:8080/",
          "height": 312
        },
        "id": "KckrEoiry-pE",
        "outputId": "8153abf3-bafa-4f83-81e0-134527480c25"
      },
      "execution_count": 193,
      "outputs": [
        {
          "output_type": "execute_result",
          "data": {
            "text/plain": [
              "Text(0, 0.5, 'Survival number')"
            ]
          },
          "metadata": {},
          "execution_count": 193
        },
        {
          "output_type": "display_data",
          "data": {
            "text/plain": [
              "<Figure size 432x288 with 1 Axes>"
            ],
            "image/png": "[encoded data removed]"
          },
          "metadata": {
            "needs_background": "light"
          }
        }
      ]
    },
    {
      "cell_type": "markdown",
      "source": [
        "So as it can be seen through above outputs that though not many people were saved but the proportion of female being saved was more than that of a male"
      ],
      "metadata": {
        "id": "uo0XBi1jygL1"
      }
    },
    {
      "cell_type": "markdown",
      "source": [
        "# **Predicting test.csv data now using this above set of rules**"
      ],
      "metadata": {
        "id": "lT81CCS49U8d"
      }
    },
    {
      "cell_type": "code",
      "source": [
        "df2_data =DataFrame(pd.read_csv('test.csv'))"
      ],
      "metadata": {
        "id": "5YY5MbKw9ikp"
      },
      "execution_count": 194,
      "outputs": []
    },
    {
      "cell_type": "code",
      "source": [
        "#calculating total people in the given dataset\n",
        "dta2 = df2_data.Sex.value_counts()\n",
        "total_people2 = dta2[0] + dta2[1]\n",
        "print(\"Total number of people data:\",total_people2)\n",
        "\n",
        "male_count2 = dta2[0]\n",
        "female_count2 = dta2[1]\n",
        "\n",
        "\n",
        "#according to the previous dataset 38.38% of people should survive\n",
        "people_survived2 = int((total_people2*percent_survive)//100)\n",
        "print(\"Number of people which may have survived in this data set:%d\"%(people_survived2))"
      ],
      "metadata": {
        "colab": {
          "base_uri": "https://localhost:8080/"
        },
        "id": "vFV6xT_u95hS",
        "outputId": "35fe4282-56cc-4067-d475-607f6a83a4c7"
      },
      "execution_count": 195,
      "outputs": [
        {
          "output_type": "stream",
          "name": "stdout",
          "text": [
            "Total number of people data: 418\n",
            "Number of people which may have survived in this data set:160\n"
          ]
        }
      ]
    },
    {
      "cell_type": "code",
      "source": [
        "#according to 'train.csv' 74.20% of female were saved and 18.89% male were saved\"\n",
        "total_female = df2_data.Sex[df2_data.Sex == 'female'].value_counts()\n",
        "female_saved2 = int((total_female*percent_female_saved)//100)\n",
        "\n",
        "\n",
        "#now total man saved = total_saved - female_saved\n",
        "male_saved2 = people_survived2 - female_saved2\n"
      ],
      "metadata": {
        "id": "5-aWG7IBB117"
      },
      "execution_count": 196,
      "outputs": []
    },
    {
      "cell_type": "code",
      "source": [
        "#for female\n",
        "saved_dataf = [0]*female_count2\n",
        "rnd = np.random.randint(0,female_saved2)\n",
        "rnd_list = []\n",
        "i = 0\n",
        "while(i<female_saved2):\n",
        "  rnd = np.random.randint(0,len(saved_dataf))\n",
        "  if(rnd not in rnd_list):\n",
        "    rnd_list.append(rnd)\n",
        "    saved_dataf[rnd] = 1\n",
        "    i = i+1"
      ],
      "metadata": {
        "id": "lNcYgyoGFupQ"
      },
      "execution_count": 197,
      "outputs": []
    },
    {
      "cell_type": "code",
      "source": [
        "#for male\n",
        "saved_datam = [0]*male_count2\n",
        "rnd2 = np.random.randint(0,male_saved2)\n",
        "rnd2_list = []\n",
        "j = 0\n",
        "while(j<male_saved2):\n",
        "  rnd2 = np.random.randint(0,len(saved_datam))\n",
        "  if(rnd2 not in rnd2_list):\n",
        "    rnd2_list.append(rnd2)\n",
        "    saved_datam[rnd2] = 1\n",
        "    j = j+1"
      ],
      "metadata": {
        "id": "FhGr_DFYoWz1"
      },
      "execution_count": 198,
      "outputs": []
    },
    {
      "cell_type": "code",
      "source": [
        "final_list = []*total_people2\n",
        "f = 0\n",
        "m  = 0\n",
        "for i in df2_data.PassengerId.values:\n",
        "  if i in df2_data.PassengerId.values[df2_data.Sex == 'female']:\n",
        "    final_list.append(saved_dataf[f])\n",
        "    f = f+1\n",
        "  else:\n",
        "    final_list.append(saved_datam[m])\n",
        "    m = m+1"
      ],
      "metadata": {
        "id": "GXEOhlfiO2PA"
      },
      "execution_count": 199,
      "outputs": []
    },
    {
      "cell_type": "code",
      "source": [
        "#now adding this data into a csv file\n",
        "new_df = DataFrame(pd.read_csv('gender_based_observation.csv',delimiter=','))\n",
        "new_df.insert(loc=1,column='survived',value=final_list)\n",
        "#making a new csv file with reference to this\n",
        "csv_data = new_df.to_csv('gender_based_prediction.csv') \n",
        "print('\\nCSV String:\\n', csv_data)"
      ],
      "metadata": {
        "colab": {
          "base_uri": "https://localhost:8080/"
        },
        "id": "fZfWAD8pX6gu",
        "outputId": "d5edb9fc-94c1-4da1-907a-379771553d92"
      },
      "execution_count": 200,
      "outputs": [
        {
          "output_type": "stream",
          "name": "stdout",
          "text": [
            "\n",
            "CSV String:\n",
            " None\n"
          ]
        }
      ]
    },
    {
      "cell_type": "code",
      "source": [
        "#VISUAL REPRESENTATION\n",
        "data1 = [male_saved2,female_saved2]\n",
        "x_val1 = ['male','female']\n",
        "saved_graph1 = plt.bar(x_val1,data1)\n",
        "plt.title('Gender wise survival rate')\n",
        "plt.xlabel('Gender')\n",
        "plt.ylabel('Survival number')"
      ],
      "metadata": {
        "colab": {
          "base_uri": "https://localhost:8080/",
          "height": 312
        },
        "id": "OAXLPzKNeVLj",
        "outputId": "384b8162-0b4a-43e6-fe4f-c1305cd44904"
      },
      "execution_count": 201,
      "outputs": [
        {
          "output_type": "execute_result",
          "data": {
            "text/plain": [
              "Text(0, 0.5, 'Survival number')"
            ]
          },
          "metadata": {},
          "execution_count": 201
        },
        {
          "output_type": "display_data",
          "data": {
            "text/plain": [
              "<Figure size 432x288 with 1 Axes>"
            ],
            "image/png": "[encoded data removed]"
          },
          "metadata": {
            "needs_background": "light"
          }
        }
      ]
    },
    {
      "cell_type": "markdown",
      "source": [
        "**CONCLUSION**\n",
        "Thus by all above observation it can be concluded that more number of female got saved than that of men"
      ],
      "metadata": {
        "id": "iASdyn1HiSBv"
      }
    }
  ]
}